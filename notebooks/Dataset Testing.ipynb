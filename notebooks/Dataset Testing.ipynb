{
 "cells": [
  {
   "cell_type": "code",
   "execution_count": 1,
   "id": "horizontal-manor",
   "metadata": {},
   "outputs": [],
   "source": [
    "import glob"
   ]
  },
  {
   "cell_type": "code",
   "execution_count": 2,
   "id": "material-robinson",
   "metadata": {
    "id": "TqOt6Sv7AsMi"
   },
   "outputs": [],
   "source": [
    "import matplotlib.pyplot as plt\n",
    "import numpy as np\n",
    "import os\n",
    "import tensorflow as tf\n",
    "\n",
    "from tensorflow.keras.preprocessing import image_dataset_from_directory"
   ]
  },
  {
   "cell_type": "code",
   "execution_count": 3,
   "id": "spanish-reverse",
   "metadata": {},
   "outputs": [
    {
     "data": {
      "text/plain": [
       "'/device:GPU:0'"
      ]
     },
     "execution_count": 3,
     "metadata": {},
     "output_type": "execute_result"
    }
   ],
   "source": [
    "import tensorflow as tf\n",
    "tf.test.gpu_device_name()"
   ]
  },
  {
   "cell_type": "code",
   "execution_count": 5,
   "id": "suffering-terminal",
   "metadata": {},
   "outputs": [],
   "source": [
    "import pathlib\n",
    "data_dir = pathlib.Path(\"/home/cdsw/chest_xray\")"
   ]
  },
  {
   "cell_type": "code",
   "execution_count": 6,
   "id": "complex-tongue",
   "metadata": {},
   "outputs": [],
   "source": [
    "batch_size = 32\n",
    "img_height = 224\n",
    "img_width = 224\n",
    "IMG_SIZE = (224, 224)"
   ]
  },
  {
   "cell_type": "code",
   "execution_count": 6,
   "id": "average-restoration",
   "metadata": {},
   "outputs": [
    {
     "name": "stdout",
     "output_type": "stream",
     "text": [
      "Found 5614 files belonging to 2 classes.\n",
      "Using 4492 files for training.\n"
     ]
    }
   ],
   "source": [
    "train_dataset = tf.keras.preprocessing.image_dataset_from_directory(\n",
    "  data_dir,\n",
    "  validation_split=0.2,\n",
    "  subset=\"training\",\n",
    "  seed=123,\n",
    "  image_size=(img_height, img_width),\n",
    "  batch_size=batch_size)"
   ]
  },
  {
   "cell_type": "code",
   "execution_count": 7,
   "id": "developmental-phoenix",
   "metadata": {},
   "outputs": [
    {
     "name": "stdout",
     "output_type": "stream",
     "text": [
      "Found 2780 files belonging to 1 classes.\n"
     ]
    }
   ],
   "source": [
    "train_dataset_bacteria = tf.keras.preprocessing.image_dataset_from_directory(\n",
    "  \"/home/cdsw/chest_xray_pneumonia/bacteria\",\n",
    "  #validation_split=0.2,\n",
    "  labels = [1] * len(glob.glob(\"chest_xray_pneumonia/bacteria/bacteria/*.jpeg\")),\n",
    "  #class_names = ['normal'],\n",
    "  #subset=\"training\",\n",
    "  seed=123,\n",
    "  image_size=(img_height, img_width),\n",
    "  batch_size=batch_size)"
   ]
  },
  {
   "cell_type": "code",
   "execution_count": 8,
   "id": "foreign-alexandria",
   "metadata": {},
   "outputs": [
    {
     "name": "stdout",
     "output_type": "stream",
     "text": [
      "Found 1493 files belonging to 1 classes.\n"
     ]
    }
   ],
   "source": [
    "train_dataset_virus = tf.keras.preprocessing.image_dataset_from_directory(\n",
    "  \"/home/cdsw/chest_xray_pneumonia/virus\",\n",
    "  #validation_split=0.2,\n",
    "  labels = [1] * len(glob.glob(\"chest_xray_pneumonia/virus/virus/*.jpeg\")),\n",
    "  #class_names = ['normal'],\n",
    "  #subset=\"training\",\n",
    "  seed=123,\n",
    "  image_size=(img_height, img_width),\n",
    "  batch_size=batch_size)"
   ]
  },
  {
   "cell_type": "code",
   "execution_count": 10,
   "id": "integral-provision",
   "metadata": {},
   "outputs": [],
   "source": [
    "train_dataset_pneumonia = train_dataset_virus.concatenate(train_dataset_bacteria)"
   ]
  },
  {
   "cell_type": "code",
   "execution_count": 27,
   "id": "remarkable-figure",
   "metadata": {},
   "outputs": [
    {
     "name": "stdout",
     "output_type": "stream",
     "text": [
      "Found 1341 files belonging to 1 classes.\n"
     ]
    }
   ],
   "source": [
    "train_dataset_normal = tf.keras.preprocessing.image_dataset_from_directory(\n",
    "  \"/home/cdsw/chest_xray_pneumonia/normal\",\n",
    "  #validation_split=0.2,\n",
    "  labels = [0] * len(glob.glob(\"chest_xray_pneumonia/normal/normal/*.jpeg\")),\n",
    "  #class_names = ['normal'],\n",
    "  #subset=\"training\",\n",
    "  seed=123,\n",
    "  image_size=(img_height, img_width),\n",
    "  batch_size=1)"
   ]
  },
  {
   "cell_type": "code",
   "execution_count": 28,
   "id": "upset-spencer",
   "metadata": {},
   "outputs": [
    {
     "data": {
      "text/plain": [
       "tensorflow.python.data.ops.dataset_ops.BatchDataset"
      ]
     },
     "execution_count": 28,
     "metadata": {},
     "output_type": "execute_result"
    }
   ],
   "source": [
    "type(train_dataset_normal)"
   ]
  },
  {
   "cell_type": "code",
   "execution_count": 12,
   "id": "particular-feeling",
   "metadata": {},
   "outputs": [],
   "source": [
    "train_dataset = train_dataset_pneumonia.concatenate(train_dataset_normal)"
   ]
  },
  {
   "cell_type": "code",
   "execution_count": 16,
   "id": "original-linux",
   "metadata": {},
   "outputs": [
    {
     "ename": "AttributeError",
     "evalue": "'ConcatenateDataset' object has no attribute 'class_names'",
     "output_type": "error",
     "traceback": [
      "\u001b[0;31m---------------------------------------------------------------------------\u001b[0m",
      "\u001b[0;31mAttributeError\u001b[0m                            Traceback (most recent call last)",
      "\u001b[0;32m<ipython-input-16-4da5a03e042a>\u001b[0m in \u001b[0;36m<module>\u001b[0;34m\u001b[0m\n\u001b[0;32m----> 1\u001b[0;31m \u001b[0mtrain_dataset_pneumonia\u001b[0m\u001b[0;34m.\u001b[0m\u001b[0mclass_names\u001b[0m\u001b[0;34m\u001b[0m\u001b[0;34m\u001b[0m\u001b[0m\n\u001b[0m",
      "\u001b[0;31mAttributeError\u001b[0m: 'ConcatenateDataset' object has no attribute 'class_names'"
     ]
    }
   ],
   "source": [
    "train_dataset_pneumonia.class_names"
   ]
  },
  {
   "cell_type": "code",
   "execution_count": 17,
   "id": "specialized-nashville",
   "metadata": {},
   "outputs": [
    {
     "data": {
      "text/plain": [
       "tensorflow.python.data.ops.dataset_ops.ConcatenateDataset"
      ]
     },
     "execution_count": 17,
     "metadata": {},
     "output_type": "execute_result"
    }
   ],
   "source": [
    "type(train_dataset_pneumonia)"
   ]
  },
  {
   "cell_type": "code",
   "execution_count": 31,
   "id": "promotional-bible",
   "metadata": {},
   "outputs": [
    {
     "data": {
      "text/plain": [
       "['virus']"
      ]
     },
     "execution_count": 31,
     "metadata": {},
     "output_type": "execute_result"
    }
   ],
   "source": [
    "train_dataset_virus.class_names"
   ]
  },
  {
   "cell_type": "code",
   "execution_count": 29,
   "id": "eight-empty",
   "metadata": {},
   "outputs": [
    {
     "data": {
      "text/plain": [
       "tensorflow.python.data.ops.dataset_ops.TensorSliceDataset"
      ]
     },
     "execution_count": 29,
     "metadata": {},
     "output_type": "execute_result"
    }
   ],
   "source": [
    "type(tf.data.Dataset.from_tensor_slices([1, 2, 3]))"
   ]
  },
  {
   "cell_type": "code",
   "execution_count": null,
   "id": "working-setup",
   "metadata": {},
   "outputs": [],
   "source": []
  }
 ],
 "metadata": {
  "kernelspec": {
   "display_name": "Python 3",
   "language": "python",
   "name": "python3"
  },
  "language_info": {
   "codemirror_mode": {
    "name": "ipython",
    "version": 3
   },
   "file_extension": ".py",
   "mimetype": "text/x-python",
   "name": "python",
   "nbconvert_exporter": "python",
   "pygments_lexer": "ipython3",
   "version": "3.6.12"
  }
 },
 "nbformat": 4,
 "nbformat_minor": 5
}
