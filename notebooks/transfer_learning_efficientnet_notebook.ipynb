{
 "cells": [
  {
   "cell_type": "markdown",
   "id": "e6cbc556",
   "metadata": {},
   "source": [
    "# EfficientNet Model"
   ]
  },
  {
   "cell_type": "markdown",
   "id": "07c29118",
   "metadata": {},
   "source": [
    "https://keras.io/examples/vision/image_classification_efficientnet_fine_tuning/\n",
    "\n",
    "https://tfhub.dev/google/collections/efficientnet/1\n"
   ]
  },
  {
   "cell_type": "code",
   "execution_count": 1,
   "id": "bbc7e0f8",
   "metadata": {},
   "outputs": [],
   "source": [
    "!ln -s /usr/local/cuda-11.1/targets/x86_64-linux/lib/libcusolver.so.11.0.1.105 /usr/local/cuda-11.1/targets/x86_64-linux/lib/libcusolver.so.10"
   ]
  },
  {
   "cell_type": "code",
   "execution_count": 2,
   "id": "8770dc37",
   "metadata": {},
   "outputs": [],
   "source": [
    "from PIL import Image\n",
    "from io import BytesIO\n",
    "import os\n",
    "import requests\n",
    "import tensorflow as tf\n",
    "import numpy as np\n",
    "import boto3\n",
    "from tensorflow.keras.layers.experimental import preprocessing\n",
    "import matplotlib.pyplot as plt\n",
    "from cmlbootstrap import CMLBootstrap\n",
    "from subprocess import check_output\n",
    "from smart_open import open"
   ]
  },
  {
   "cell_type": "code",
   "execution_count": 3,
   "id": "452e48f8",
   "metadata": {},
   "outputs": [
    {
     "data": {
      "text/plain": [
       "'/device:GPU:0'"
      ]
     },
     "execution_count": 3,
     "metadata": {},
     "output_type": "execute_result"
    }
   ],
   "source": [
    "tf.test.gpu_device_name()"
   ]
  },
  {
   "cell_type": "code",
   "execution_count": 4,
   "id": "81fd5982",
   "metadata": {},
   "outputs": [],
   "source": [
    "import pathlib\n",
    "data_dir = pathlib.Path(\"/home/cdsw/data/train\")"
   ]
  },
  {
   "cell_type": "code",
   "execution_count": 5,
   "id": "38ed1836",
   "metadata": {},
   "outputs": [],
   "source": [
    "batch_size = 32\n",
    "img_height = 300\n",
    "img_width = 300\n",
    "IMG_SIZE = (300, 300)"
   ]
  },
  {
   "cell_type": "code",
   "execution_count": 6,
   "id": "ba11cdb1",
   "metadata": {},
   "outputs": [
    {
     "name": "stdout",
     "output_type": "stream",
     "text": [
      "Found 4490 files belonging to 3 classes.\n",
      "Using 3592 files for training.\n"
     ]
    }
   ],
   "source": [
    "train_dataset = tf.keras.preprocessing.image_dataset_from_directory(\n",
    "  data_dir,\n",
    "  validation_split=0.2,\n",
    "  subset=\"training\",\n",
    "  seed=123,\n",
    "  image_size=(img_height, img_width),\n",
    "  batch_size=batch_size)"
   ]
  },
  {
   "cell_type": "code",
   "execution_count": 7,
   "id": "387b0362",
   "metadata": {},
   "outputs": [
    {
     "name": "stdout",
     "output_type": "stream",
     "text": [
      "Found 4490 files belonging to 3 classes.\n",
      "Using 898 files for validation.\n"
     ]
    }
   ],
   "source": [
    "validation_dataset = tf.keras.preprocessing.image_dataset_from_directory(\n",
    "  data_dir,\n",
    "  validation_split=0.2,\n",
    "  subset=\"validation\",\n",
    "  seed=123,\n",
    "  image_size=(img_height, img_width),\n",
    "  batch_size=batch_size)"
   ]
  },
  {
   "cell_type": "code",
   "execution_count": 8,
   "id": "e81e3e9b",
   "metadata": {},
   "outputs": [],
   "source": [
    "val_batches = tf.data.experimental.cardinality(validation_dataset)\n",
    "test_dataset = validation_dataset.take(val_batches // 5)\n",
    "validation_dataset = validation_dataset.skip(val_batches // 5)"
   ]
  },
  {
   "cell_type": "code",
   "execution_count": 9,
   "id": "13eccced",
   "metadata": {},
   "outputs": [],
   "source": [
    "AUTOTUNE = tf.data.AUTOTUNE\n",
    "\n",
    "train_dataset = train_dataset.prefetch(buffer_size=AUTOTUNE)\n",
    "validation_dataset = validation_dataset.prefetch(buffer_size=AUTOTUNE)\n",
    "test_dataset = test_dataset.prefetch(buffer_size=AUTOTUNE)"
   ]
  },
  {
   "cell_type": "code",
   "execution_count": 10,
   "id": "26823267",
   "metadata": {},
   "outputs": [],
   "source": [
    "from tensorflow.keras.layers.experimental import preprocessing\n",
    "from tensorflow.keras.models import Sequential\n",
    "from tensorflow.keras import layers\n",
    "\n",
    "img_augmentation = Sequential(\n",
    "    [\n",
    "        preprocessing.RandomRotation(factor=0.05),\n",
    "        preprocessing.RandomFlip(\"horizontal\"),\n",
    "        preprocessing.RandomZoom(0.05),\n",
    "    ],\n",
    "    name=\"img_augmentation\",\n",
    ")  "
   ]
  },
  {
   "cell_type": "code",
   "execution_count": 11,
   "id": "e30aa6ac",
   "metadata": {},
   "outputs": [],
   "source": [
    "import matplotlib.pyplot as plt\n",
    "\n",
    "def plot_hist(hist):\n",
    "    plt.plot(hist.history[\"accuracy\"])\n",
    "    plt.plot(hist.history[\"val_accuracy\"])\n",
    "    plt.title(\"model accuracy\")\n",
    "    plt.ylabel(\"accuracy\")\n",
    "    plt.xlabel(\"epoch\")\n",
    "    plt.legend([\"train\", \"validation\"], loc=\"upper left\")\n",
    "    plt.ylim([0,1])\n",
    "    plt.show()"
   ]
  },
  {
   "cell_type": "code",
   "execution_count": 12,
   "id": "e6a56035",
   "metadata": {},
   "outputs": [],
   "source": [
    "from tensorflow.keras.layers.experimental import preprocessing\n",
    "from tensorflow.keras.applications import EfficientNetB3\n",
    "\n",
    "inputs = layers.Input(shape=(IMG_SIZE[0], IMG_SIZE[1], 3))\n",
    "\n",
    "x = img_augmentation(inputs)\n",
    "\n",
    "model = EfficientNetB3(include_top=False, input_tensor=x, weights=\"imagenet\")\n",
    "x = layers.GlobalAveragePooling2D(name=\"avg_pool\")(model.output)\n",
    "x = layers.BatchNormalization(name=\"last_batch_norm\")(x)\n",
    "\n",
    "top_dropout_rate = 0.2\n",
    "x = layers.Dropout(top_dropout_rate, name=\"top_dropout\")(x)\n",
    "outputs = layers.Dense(3, name=\"pred\", activation=\"softmax\")(x)\n",
    "\n",
    "model = tf.keras.Model(inputs, outputs, name=\"EfficientNet\")"
   ]
  },
  {
   "cell_type": "code",
   "execution_count": 13,
   "id": "56e44d47",
   "metadata": {},
   "outputs": [
    {
     "data": {
      "text/plain": [
       "342"
      ]
     },
     "execution_count": 13,
     "metadata": {},
     "output_type": "execute_result"
    }
   ],
   "source": [
    "len(model.trainable_variables)"
   ]
  },
  {
   "cell_type": "code",
   "execution_count": 14,
   "id": "a323da42",
   "metadata": {},
   "outputs": [],
   "source": [
    "model.trainable = True\n",
    "\n",
    "for i, layer in enumerate(model.layers):\n",
    "  if i > len(model.layers) - 21:\n",
    "      if not isinstance(layer, layers.BatchNormalization):\n",
    "          layer.trainable = True\n",
    "      else:\n",
    "          if layer.name == \"last_batch_norm\":\n",
    "              layer.trainable = True\n",
    "          else:\n",
    "              layer.trainable = False\n",
    "  else:\n",
    "      layer.trainable = False"
   ]
  },
  {
   "cell_type": "code",
   "execution_count": 15,
   "id": "9d6abaf6",
   "metadata": {},
   "outputs": [],
   "source": [
    "optimizer = tf.keras.optimizers.Adam(learning_rate=0.0001)\n",
    "model.compile(\n",
    "    optimizer=optimizer, loss=\"sparse_categorical_crossentropy\", metrics=[\"accuracy\"]\n",
    ")"
   ]
  },
  {
   "cell_type": "code",
   "execution_count": 16,
   "id": "eb6d9f63",
   "metadata": {},
   "outputs": [
    {
     "data": {
      "text/plain": [
       "11"
      ]
     },
     "execution_count": 16,
     "metadata": {},
     "output_type": "execute_result"
    }
   ],
   "source": [
    "len(model.trainable_variables)"
   ]
  },
  {
   "cell_type": "code",
   "execution_count": 17,
   "id": "d0b96bc9",
   "metadata": {},
   "outputs": [
    {
     "name": "stdout",
     "output_type": "stream",
     "text": [
      "Epoch 1/30\n",
      "113/113 - 196s - loss: 0.8204 - accuracy: 0.6840 - val_loss: 0.6907 - val_accuracy: 0.7304\n",
      "Epoch 2/30\n",
      "113/113 - 66s - loss: 0.6295 - accuracy: 0.7514 - val_loss: 0.6244 - val_accuracy: 0.7236\n",
      "Epoch 3/30\n",
      "113/113 - 66s - loss: 0.5442 - accuracy: 0.7815 - val_loss: 0.5305 - val_accuracy: 0.7602\n",
      "Epoch 4/30\n",
      "113/113 - 66s - loss: 0.5139 - accuracy: 0.7895 - val_loss: 0.5042 - val_accuracy: 0.7791\n",
      "Epoch 5/30\n",
      "113/113 - 66s - loss: 0.4862 - accuracy: 0.7987 - val_loss: 0.5444 - val_accuracy: 0.7764\n",
      "Epoch 6/30\n",
      "113/113 - 66s - loss: 0.4698 - accuracy: 0.8093 - val_loss: 0.5466 - val_accuracy: 0.7805\n",
      "Epoch 7/30\n",
      "113/113 - 66s - loss: 0.4608 - accuracy: 0.8054 - val_loss: 0.4907 - val_accuracy: 0.7981\n",
      "Epoch 8/30\n",
      "113/113 - 66s - loss: 0.4528 - accuracy: 0.8112 - val_loss: 0.4955 - val_accuracy: 0.7940\n",
      "Epoch 9/30\n",
      "113/113 - 66s - loss: 0.4365 - accuracy: 0.8185 - val_loss: 0.5092 - val_accuracy: 0.7967\n",
      "Epoch 10/30\n",
      "113/113 - 66s - loss: 0.4228 - accuracy: 0.8246 - val_loss: 0.5045 - val_accuracy: 0.7981\n",
      "Epoch 11/30\n",
      "113/113 - 66s - loss: 0.4207 - accuracy: 0.8249 - val_loss: 0.4882 - val_accuracy: 0.8130\n",
      "Epoch 12/30\n",
      "113/113 - 66s - loss: 0.3996 - accuracy: 0.8377 - val_loss: 0.4877 - val_accuracy: 0.8008\n",
      "Epoch 13/30\n",
      "113/113 - 66s - loss: 0.4273 - accuracy: 0.8143 - val_loss: 0.4960 - val_accuracy: 0.7846\n",
      "Epoch 14/30\n",
      "113/113 - 66s - loss: 0.3781 - accuracy: 0.8408 - val_loss: 0.4974 - val_accuracy: 0.7873\n",
      "Epoch 15/30\n",
      "113/113 - 66s - loss: 0.3718 - accuracy: 0.8458 - val_loss: 0.5735 - val_accuracy: 0.7642\n",
      "Epoch 16/30\n",
      "113/113 - 66s - loss: 0.3531 - accuracy: 0.8538 - val_loss: 0.5063 - val_accuracy: 0.7913\n",
      "Epoch 17/30\n",
      "113/113 - 66s - loss: 0.3700 - accuracy: 0.8502 - val_loss: 0.5370 - val_accuracy: 0.7575\n",
      "Epoch 18/30\n",
      "113/113 - 66s - loss: 0.3446 - accuracy: 0.8597 - val_loss: 0.4810 - val_accuracy: 0.7859\n",
      "Epoch 19/30\n",
      "113/113 - 66s - loss: 0.3351 - accuracy: 0.8602 - val_loss: 0.5022 - val_accuracy: 0.7886\n",
      "Epoch 20/30\n",
      "113/113 - 66s - loss: 0.3458 - accuracy: 0.8569 - val_loss: 0.5339 - val_accuracy: 0.7859\n",
      "Epoch 21/30\n",
      "113/113 - 66s - loss: 0.3350 - accuracy: 0.8569 - val_loss: 0.4576 - val_accuracy: 0.7981\n",
      "Epoch 22/30\n",
      "113/113 - 66s - loss: 0.3183 - accuracy: 0.8653 - val_loss: 0.5402 - val_accuracy: 0.7683\n",
      "Epoch 23/30\n",
      "113/113 - 66s - loss: 0.3146 - accuracy: 0.8650 - val_loss: 0.5381 - val_accuracy: 0.7751\n",
      "Epoch 24/30\n",
      "113/113 - 66s - loss: 0.3073 - accuracy: 0.8653 - val_loss: 0.5401 - val_accuracy: 0.7954\n",
      "Epoch 25/30\n",
      "113/113 - 66s - loss: 0.3180 - accuracy: 0.8672 - val_loss: 0.5066 - val_accuracy: 0.7859\n",
      "Epoch 26/30\n",
      "113/113 - 66s - loss: 0.3131 - accuracy: 0.8647 - val_loss: 0.5312 - val_accuracy: 0.7846\n",
      "Epoch 27/30\n",
      "113/113 - 66s - loss: 0.2941 - accuracy: 0.8800 - val_loss: 0.4895 - val_accuracy: 0.7981\n",
      "Epoch 28/30\n",
      "113/113 - 66s - loss: 0.3030 - accuracy: 0.8756 - val_loss: 0.4677 - val_accuracy: 0.8144\n",
      "Epoch 29/30\n",
      "113/113 - 66s - loss: 0.2956 - accuracy: 0.8742 - val_loss: 0.5016 - val_accuracy: 0.7927\n",
      "Epoch 30/30\n",
      "113/113 - 66s - loss: 0.2875 - accuracy: 0.8800 - val_loss: 0.4920 - val_accuracy: 0.7954\n"
     ]
    }
   ],
   "source": [
    "epochs = 30\n",
    "hist = model.fit(train_dataset, epochs=epochs, validation_data=validation_dataset, verbose=2)"
   ]
  },
  {
   "cell_type": "code",
   "execution_count": 18,
   "id": "9b1c9620",
   "metadata": {},
   "outputs": [
    {
     "name": "stdout",
     "output_type": "stream",
     "text": [
      "5/5 [==============================] - 4s 402ms/step - loss: 0.4502 - accuracy: 0.8188\n",
      "Test accuracy : 0.8187500238418579\n"
     ]
    }
   ],
   "source": [
    "loss, accuracy = model.evaluate(test_dataset)\n",
    "print('Test accuracy :', accuracy)"
   ]
  },
  {
   "cell_type": "code",
   "execution_count": 19,
   "id": "9cf594a8",
   "metadata": {},
   "outputs": [
    {
     "data": {
      "image/png": "[encoded data removed]",
      "text/plain": [
       "<Figure size 432x288 with 1 Axes>"
      ]
     },
     "metadata": {
      "needs_background": "light"
     },
     "output_type": "display_data"
    }
   ],
   "source": [
    "plot_hist(hist)"
   ]
  },
  {
   "cell_type": "code",
   "execution_count": null,
   "id": "8d6c3e59",
   "metadata": {},
   "outputs": [],
   "source": [
    "#model.save(\"models/model_2_efficient.h5\")"
   ]
  }
 ],
 "metadata": {
  "kernelspec": {
   "display_name": "Python 3",
   "language": "python",
   "name": "python3"
  },
  "language_info": {
   "codemirror_mode": {
    "name": "ipython",
    "version": 3
   },
   "file_extension": ".py",
   "mimetype": "text/x-python",
   "name": "python",
   "nbconvert_exporter": "python",
   "pygments_lexer": "ipython3",
   "version": "3.6.12"
  }
 },
 "nbformat": 4,
 "nbformat_minor": 5
}
