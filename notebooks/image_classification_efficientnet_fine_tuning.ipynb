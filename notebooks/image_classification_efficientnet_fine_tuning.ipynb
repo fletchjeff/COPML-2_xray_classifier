{
 "cells": [
  {
   "cell_type": "code",
   "execution_count": 1,
   "metadata": {},
   "outputs": [
    {
     "name": "stdout",
     "output_type": "stream",
     "text": [
      "ln: failed to create symbolic link '/usr/local/cuda-11.1/targets/x86_64-linux/lib/libcusolver.so.10': File exists\n"
     ]
    }
   ],
   "source": [
    "!ln -s /usr/local/cuda-11.1/targets/x86_64-linux/lib/libcusolver.so.11.0.1.105 /usr/local/cuda-11.1/targets/x86_64-linux/lib/libcusolver.so.10"
   ]
  },
  {
   "cell_type": "code",
   "execution_count": 2,
   "metadata": {},
   "outputs": [],
   "source": [
    "import pathlib"
   ]
  },
  {
   "cell_type": "code",
   "execution_count": 3,
   "metadata": {
    "id": "A1N9sN5kJrzz"
   },
   "outputs": [],
   "source": [
    "import tensorflow as tf"
   ]
  },
  {
   "cell_type": "code",
   "execution_count": 4,
   "metadata": {},
   "outputs": [
    {
     "data": {
      "text/plain": [
       "'/device:GPU:0'"
      ]
     },
     "execution_count": 4,
     "metadata": {},
     "output_type": "execute_result"
    }
   ],
   "source": [
    "tf.test.gpu_device_name()"
   ]
  },
  {
   "cell_type": "code",
   "execution_count": 5,
   "metadata": {},
   "outputs": [],
   "source": [
    "#data_dir = pathlib.Path(\"/home/cdsw/chest_xray_pneumonia\")\n",
    "data_dir = pathlib.Path(\"/home/cdsw/chest_xray\")"
   ]
  },
  {
   "cell_type": "code",
   "execution_count": 6,
   "metadata": {},
   "outputs": [],
   "source": [
    "batch_size = 32\n",
    "img_height = 600 #600\n",
    "img_width = 600 #600\n",
    "IMG_SIZE = 456\n",
    "#IMG_SIZE = (224, 224)"
   ]
  },
  {
   "cell_type": "code",
   "execution_count": 7,
   "metadata": {},
   "outputs": [
    {
     "name": "stdout",
     "output_type": "stream",
     "text": [
      "Found 5616 files belonging to 2 classes.\n",
      "Using 4493 files for training.\n"
     ]
    }
   ],
   "source": [
    "train_dataset = tf.keras.preprocessing.image_dataset_from_directory(\n",
    "  data_dir,\n",
    "  validation_split=0.2,\n",
    "  subset=\"training\",\n",
    "  seed=123,\n",
    "  image_size=(IMG_SIZE, IMG_SIZE),\n",
    "  batch_size=batch_size)"
   ]
  },
  {
   "cell_type": "code",
   "execution_count": 8,
   "metadata": {},
   "outputs": [
    {
     "name": "stdout",
     "output_type": "stream",
     "text": [
      "Found 5616 files belonging to 2 classes.\n",
      "Using 1123 files for validation.\n"
     ]
    }
   ],
   "source": [
    "validation_dataset = tf.keras.preprocessing.image_dataset_from_directory(\n",
    "  data_dir,\n",
    "  validation_split=0.2,\n",
    "  subset=\"validation\",\n",
    "  seed=123,\n",
    "  image_size=(IMG_SIZE, IMG_SIZE),\n",
    "  batch_size=batch_size)"
   ]
  },
  {
   "cell_type": "code",
   "execution_count": 9,
   "metadata": {},
   "outputs": [],
   "source": [
    "val_batches = tf.data.experimental.cardinality(validation_dataset)\n",
    "test_dataset = validation_dataset.take(val_batches // 5)\n",
    "validation_dataset = validation_dataset.skip(val_batches // 5)"
   ]
  },
  {
   "cell_type": "markdown",
   "metadata": {
    "id": "SHhSDI5VJrz1"
   },
   "source": [
    "### Data augmentation\n",
    "\n",
    "We can use preprocessing layers APIs for image augmentation."
   ]
  },
  {
   "cell_type": "code",
   "execution_count": 10,
   "metadata": {
    "id": "CU-VjwWLJrz1"
   },
   "outputs": [],
   "source": [
    "from tensorflow.keras.layers.experimental import preprocessing\n",
    "from tensorflow.keras.models import Sequential\n",
    "from tensorflow.keras import layers\n",
    "\n",
    "img_augmentation = Sequential(\n",
    "    [\n",
    "        preprocessing.RandomRotation(factor=0.1),\n",
    "        preprocessing.RandomFlip(\"horizontal\", input_shape=(IMG_SIZE, IMG_SIZE, 3)),\n",
    "        preprocessing.RandomZoom(0.1),\n",
    "    ],\n",
    "    name=\"img_augmentation\",\n",
    ")  "
   ]
  },
  {
   "cell_type": "markdown",
   "metadata": {
    "id": "NwtJB7iKJrz1"
   },
   "source": [
    "This `Sequential` model object can be used both as a part of\n",
    "the model we later build, and as a function to preprocess\n",
    "data before feeding into the model. Using them as function makes\n",
    "it easy to visualize the augmented images. Here we plot 9 examples\n",
    "of augmentation result of a given figure."
   ]
  },
  {
   "cell_type": "markdown",
   "metadata": {
    "id": "WYKiecNfJrz1"
   },
   "source": [
    "### Prepare inputs\n",
    "\n",
    "Once we verify the input data and augmentation are working correctly,\n",
    "we prepare dataset for training. The input data are resized to uniform\n",
    "`IMG_SIZE`. The labels are put into one-hot\n",
    "(a.k.a. categorical) encoding. The dataset is batched.\n",
    "\n",
    "Note: `prefetch` and `AUTOTUNE` may in some situation improve\n",
    "performance, but depends on environment and the specific dataset used.\n",
    "See this [guide](https://www.tensorflow.org/guide/data_performance)\n",
    "for more information on data pipeline performance."
   ]
  },
  {
   "cell_type": "code",
   "execution_count": 11,
   "metadata": {
    "id": "MsFPzOEwJrz1"
   },
   "outputs": [],
   "source": [
    "AUTOTUNE = tf.data.AUTOTUNE\n",
    "train_dataset = train_dataset.prefetch(buffer_size=AUTOTUNE)\n",
    "validation_dataset = validation_dataset.prefetch(buffer_size=AUTOTUNE)"
   ]
  },
  {
   "cell_type": "markdown",
   "metadata": {
    "id": "2A1P7QpyJrz1"
   },
   "source": [
    "## Training a model from scratch\n",
    "\n",
    "We build an EfficientNetB0 with 120 output classes, that is initialized from scratch:\n",
    "\n",
    "Note: the accuracy will increase very slowly and may overfit."
   ]
  },
  {
   "cell_type": "code",
   "execution_count": 12,
   "metadata": {
    "id": "qzqg8ZPtJrz2"
   },
   "outputs": [],
   "source": [
    "# from tensorflow.keras.applications import EfficientNetB5\n",
    "\n",
    "# inputs = layers.Input(shape=(IMG_SIZE, IMG_SIZE, 3))\n",
    "# x = img_augmentation(inputs)\n",
    "# outputs = EfficientNetB5(include_top=True, weights=None)(x) #, classes=NUM_CLASSES)\n",
    "# outputs = tf.keras.layers.Dense(1)(outputs)\n",
    "\n",
    "# model = tf.keras.Model(inputs, outputs)\n",
    "# model.compile(\n",
    "#     optimizer=\"adam\", loss=\"binary_crossentropy\", metrics=[\"accuracy\"]\n",
    "# )"
   ]
  },
  {
   "cell_type": "code",
   "execution_count": 13,
   "metadata": {},
   "outputs": [],
   "source": [
    "# len(model.trainable_variables)"
   ]
  },
  {
   "cell_type": "code",
   "execution_count": 14,
   "metadata": {},
   "outputs": [],
   "source": [
    "# model.summary()"
   ]
  },
  {
   "cell_type": "code",
   "execution_count": 15,
   "metadata": {},
   "outputs": [],
   "source": [
    "# epochs = 5  # @param {type: \"slider\", min:10, max:100}\n",
    "# hist = model.fit(train_dataset, epochs=epochs, validation_data=validation_dataset)"
   ]
  },
  {
   "cell_type": "code",
   "execution_count": 16,
   "metadata": {},
   "outputs": [],
   "source": [
    "# loss, accuracy = model.evaluate(test_dataset)\n",
    "# print('Test accuracy :', accuracy)"
   ]
  },
  {
   "cell_type": "markdown",
   "metadata": {
    "id": "OzyIgZiNJrz2"
   },
   "source": [
    "Training the model is relatively fast (takes only 20 seconds per epoch on TPUv2 that is\n",
    "available on Colab). This might make it sounds easy to simply train EfficientNet on any\n",
    "dataset wanted from scratch. However, training EfficientNet on smaller datasets,\n",
    "especially those with lower resolution like CIFAR-100, faces the significant challenge of\n",
    "overfitting.\n",
    "\n",
    "Hence training from scratch requires very careful choice of hyperparameters andtrain_datasetult to find suitable regularization. It would also be much more demanding in resources.\n",
    "Plotting the training and validation accuracy\n",
    "makes it clear that validation accuracy stagnates at a low value."
   ]
  },
  {
   "cell_type": "code",
   "execution_count": 17,
   "metadata": {
    "id": "zJnwvK5GJrz2"
   },
   "outputs": [],
   "source": [
    "import matplotlib.pyplot as plt\n",
    "\n",
    "\n",
    "def plot_hist(hist):\n",
    "    plt.plot(hist.history[\"accuracy\"])\n",
    "    plt.plot(hist.history[\"val_accuracy\"])\n",
    "    plt.title(\"model accuracy\")\n",
    "    plt.ylabel(\"accuracy\")\n",
    "    plt.xlabel(\"epoch\")\n",
    "    plt.legend([\"train\", \"validation\"], loc=\"upper left\")\n",
    "    plt.ylim([0,1])\n",
    "    plt.show()\n",
    "\n",
    "\n",
    "#"
   ]
  },
  {
   "cell_type": "markdown",
   "metadata": {
    "id": "xlFS_Um6Jrz2"
   },
   "source": [
    "## Transfer learning from pre-trained weights\n",
    "\n",
    "Here we initialize the model with pre-trained ImageNet weights,\n",
    "and we fine-tune it on our own dataset."
   ]
  },
  {
   "cell_type": "code",
   "execution_count": 19,
   "metadata": {
    "id": "p5voTzEXJrz2"
   },
   "outputs": [],
   "source": [
    "from tensorflow.keras.layers.experimental import preprocessing\n",
    "from tensorflow.keras.applications import EfficientNetB5\n",
    "\n",
    "#def build_model(num_classes):\n",
    "inputs = layers.Input(shape=(IMG_SIZE, IMG_SIZE, 3))\n",
    "x = img_augmentation(inputs)\n",
    "model = EfficientNetB5(include_top=False, input_tensor=x, weights=\"imagenet\")\n",
    "\n",
    "# Freeze the pretrained weights\n",
    "model.trainable = False\n",
    "\n",
    "# Rebuild top\n",
    "x = layers.GlobalAveragePooling2D(name=\"avg_pool\")(model.output)\n",
    "x = layers.BatchNormalization()(x)\n",
    "\n",
    "top_dropout_rate = 0.2\n",
    "x = layers.Dropout(top_dropout_rate, name=\"top_dropout\")(x)\n",
    "#x = effientnet_model(x)\n",
    "outputs = layers.Dense(1, name=\"pred\")(x)\n",
    "\n",
    "# Compile\n",
    "model = tf.keras.Model(inputs, outputs, name=\"EfficientNet\")\n",
    "optimizer = tf.keras.optimizers.Adam(learning_rate=0.0001)\n",
    "model.compile(\n",
    "    optimizer=optimizer, loss=\"binary_crossentropy\", metrics=[\"accuracy\"]\n",
    ")\n"
   ]
  },
  {
   "cell_type": "code",
   "execution_count": 20,
   "metadata": {},
   "outputs": [],
   "source": [
    "#model.summary()"
   ]
  },
  {
   "cell_type": "markdown",
   "metadata": {
    "id": "yos5nX-LJrz2"
   },
   "source": [
    "The first step to transfer learning is to freeze all layers and train only the top\n",
    "layers. For this step, a relatively large learning rate (1e-2) can be used.\n",
    "Note that validation accuracy and loss will usually be better than training\n",
    "accuracy and loss. This is because the regularization is strong, which only\n",
    "suppresses training-time metrics.\n",
    "\n",
    "Note that the convergence may take up to 50 epochs depending on choice of learning rate.\n",
    "If image augmentation layers were not\n",
    "applied, the validation accuracy may only reach ~60%."
   ]
  },
  {
   "cell_type": "code",
   "execution_count": 21,
   "metadata": {
    "id": "9uCUqNldJrz2"
   },
   "outputs": [],
   "source": [
    "#epochs = 10  # @param {type: \"slider\", min:8, max:80}\n",
    "#hist = model.fit(train_dataset, epochs=epochs, validation_data=validation_dataset)"
   ]
  },
  {
   "cell_type": "code",
   "execution_count": 22,
   "metadata": {},
   "outputs": [],
   "source": [
    "#loss, accuracy = model.evaluate(test_dataset)\n",
    "#print('Test accuracy :', accuracy)"
   ]
  },
  {
   "cell_type": "code",
   "execution_count": 23,
   "metadata": {},
   "outputs": [],
   "source": [
    "#plot_hist(hist)"
   ]
  },
  {
   "cell_type": "markdown",
   "metadata": {
    "id": "hRTNptExJrz2"
   },
   "source": [
    "The second step is to unfreeze a number of layers and fit the model using smaller\n",
    "learning rate. In this example we show unfreezing all layers, but depending on\n",
    "specific dataset it may be desireble to only unfreeze a fraction of all layers.\n",
    "\n",
    "When the feature extraction with\n",
    "pretrained model works good enough, this step would give a very limited gain on\n",
    "validation accuracy. In our case we only see a small improvement,\n",
    "as ImageNet pretraining already exposed the model to a good amount of dogs.\n",
    "\n",
    "On the other hand, when we use pretrained weights on a dataset that is more different\n",
    "from ImageNet, this fine-tuning step can be crucial as the feature extractor also\n",
    "needs to be adjusted by a considerable amount. Such a situation can be demonstrated\n",
    "if choosing CIFAR-100 dataset instead, where fine-tuning boosts validation accuracy\n",
    "by about 10% to pass 80% on `EfficientNetB0`.\n",
    "In such a case the convergence may take more than 50 epochs.\n",
    "\n",
    "A side note on freezing/unfreezing models: setting `trainable` of a `Model` will\n",
    "simultaneously set all layers belonging to the `Model` to the same `trainable`\n",
    "attribute. Each layer is trainable only if both the layer itself and the model\n",
    "containing it are trainable. Hence when we need to partially freeze/unfreeze\n",
    "a model, we need to make sure the `trainable` attribute of the model is set\n",
    "to `True`."
   ]
  },
  {
   "cell_type": "code",
   "execution_count": 24,
   "metadata": {},
   "outputs": [
    {
     "data": {
      "text/plain": [
       "4"
      ]
     },
     "execution_count": 24,
     "metadata": {},
     "output_type": "execute_result"
    }
   ],
   "source": [
    "len(model.trainable_variables)"
   ]
  },
  {
   "cell_type": "code",
   "execution_count": 25,
   "metadata": {
    "id": "mZLlIrt-Jrz2"
   },
   "outputs": [],
   "source": [
    "for i, layer in enumerate(model.layers):\n",
    "  if i > len(model.layers) - 21:\n",
    "    if not isinstance(layer, layers.BatchNormalization):\n",
    "        layer.trainable = True\n",
    "  else:\n",
    "    layer.trainable = False\n",
    "\n",
    "    \n",
    "optimizer = tf.keras.optimizers.Adam(learning_rate=0.001)\n",
    "model.compile(\n",
    "    optimizer=optimizer, loss=\"binary_crossentropy\", metrics=[\"accuracy\"]\n",
    ")"
   ]
  },
  {
   "cell_type": "code",
   "execution_count": 26,
   "metadata": {},
   "outputs": [
    {
     "data": {
      "text/plain": [
       "11"
      ]
     },
     "execution_count": 26,
     "metadata": {},
     "output_type": "execute_result"
    }
   ],
   "source": [
    "len(model.trainable_variables)"
   ]
  },
  {
   "cell_type": "code",
   "execution_count": 27,
   "metadata": {},
   "outputs": [
    {
     "name": "stdout",
     "output_type": "stream",
     "text": [
      "Epoch 1/30\n",
      "141/141 [==============================] - 506s 3s/step - loss: 4.2494 - accuracy: 0.7047 - val_loss: 7.1958 - val_accuracy: 0.5139\n",
      "Epoch 2/30\n",
      "141/141 [==============================] - 328s 2s/step - loss: 3.0599 - accuracy: 0.7955 - val_loss: 6.7447 - val_accuracy: 0.5551\n",
      "Epoch 3/30\n",
      "141/141 [==============================] - 328s 2s/step - loss: 4.2863 - accuracy: 0.7183 - val_loss: 1.7228 - val_accuracy: 0.8843\n",
      "Epoch 4/30\n",
      "141/141 [==============================] - 328s 2s/step - loss: 4.2840 - accuracy: 0.7162 - val_loss: 3.7951 - val_accuracy: 0.7253\n",
      "Epoch 5/30\n",
      "141/141 [==============================] - 328s 2s/step - loss: 4.2270 - accuracy: 0.7133 - val_loss: 3.7941 - val_accuracy: 0.7442\n",
      "Epoch 6/30\n",
      "141/141 [==============================] - 329s 2s/step - loss: 2.7848 - accuracy: 0.8119 - val_loss: 4.2146 - val_accuracy: 0.7197\n",
      "Epoch 7/30\n",
      "141/141 [==============================] - 329s 2s/step - loss: 3.1072 - accuracy: 0.7921 - val_loss: 3.2572 - val_accuracy: 0.7864\n",
      "Epoch 8/30\n",
      "141/141 [==============================] - 328s 2s/step - loss: 4.5902 - accuracy: 0.6979 - val_loss: 6.1493 - val_accuracy: 0.5895\n",
      "Epoch 9/30\n",
      "141/141 [==============================] - 328s 2s/step - loss: 3.7603 - accuracy: 0.7543 - val_loss: 2.1895 - val_accuracy: 0.8487\n",
      "Epoch 10/30\n",
      "141/141 [==============================] - 327s 2s/step - loss: 4.1014 - accuracy: 0.7308 - val_loss: 6.8319 - val_accuracy: 0.5495\n",
      "Epoch 11/30\n",
      "141/141 [==============================] - 328s 2s/step - loss: 4.3612 - accuracy: 0.7139 - val_loss: 12.0105 - val_accuracy: 0.2214\n",
      "Epoch 12/30\n",
      "141/141 [==============================] - 328s 2s/step - loss: 5.2516 - accuracy: 0.6539 - val_loss: 1.7483 - val_accuracy: 0.8810\n",
      "Epoch 13/30\n",
      "141/141 [==============================] - 329s 2s/step - loss: 3.9501 - accuracy: 0.7416 - val_loss: 11.2455 - val_accuracy: 0.2681\n",
      "Epoch 20/30\n",
      "141/141 [==============================] - 328s 2s/step - loss: 3.8903 - accuracy: 0.7410 - val_loss: 2.4998 - val_accuracy: 0.8331\n",
      "Epoch 21/30\n",
      "141/141 [==============================] - 328s 2s/step - loss: 3.6600 - accuracy: 0.7593 - val_loss: 2.9609 - val_accuracy: 0.8020\n",
      "Epoch 22/30\n",
      "141/141 [==============================] - 328s 2s/step - loss: 3.6235 - accuracy: 0.7615 - val_loss: 1.5118 - val_accuracy: 0.8999\n",
      "Epoch 23/30\n",
      "141/141 [==============================] - 328s 2s/step - loss: 3.6132 - accuracy: 0.7641 - val_loss: 1.7762 - val_accuracy: 0.8810\n",
      "Epoch 24/30\n",
      "141/141 [==============================] - 328s 2s/step - loss: 3.6803 - accuracy: 0.7564 - val_loss: 5.6873 - val_accuracy: 0.6285\n",
      "Epoch 25/30\n",
      "141/141 [==============================] - 328s 2s/step - loss: 3.0612 - accuracy: 0.7974 - val_loss: 6.2932 - val_accuracy: 0.5873\n",
      "Epoch 26/30\n",
      "141/141 [==============================] - 328s 2s/step - loss: 2.3809 - accuracy: 0.8415 - val_loss: 11.2460 - val_accuracy: 0.2659\n",
      "Epoch 27/30\n",
      "141/141 [==============================] - 328s 2s/step - loss: 3.7098 - accuracy: 0.7555 - val_loss: 3.2568 - val_accuracy: 0.7864\n",
      "Epoch 28/30\n",
      "141/141 [==============================] - 328s 2s/step - loss: 4.3100 - accuracy: 0.7181 - val_loss: 2.6341 - val_accuracy: 0.8265\n",
      "Epoch 29/30\n",
      "141/141 [==============================] - 327s 2s/step - loss: 4.0097 - accuracy: 0.7377 - val_loss: 8.3637 - val_accuracy: 0.4461\n",
      "Epoch 30/30\n",
      "141/141 [==============================] - 328s 2s/step - loss: 3.5942 - accuracy: 0.7653 - val_loss: 6.1394 - val_accuracy: 0.5884\n"
     ]
    }
   ],
   "source": [
    "epochs = 30  # @param {type: \"slider\", min:8, max:50}\n",
    "hist = model.fit(train_dataset, epochs=epochs, validation_data=validation_dataset)"
   ]
  },
  {
   "cell_type": "code",
   "execution_count": 28,
   "metadata": {},
   "outputs": [
    {
     "name": "stdout",
     "output_type": "stream",
     "text": [
      "7/7 [==============================] - 17s 2s/step - loss: 6.0555 - accuracy: 0.5848\n",
      "Test accuracy : 0.5848214030265808\n"
     ]
    }
   ],
   "source": [
    "loss, accuracy = model.evaluate(test_dataset)\n",
    "print('Test accuracy :', accuracy)"
   ]
  },
  {
   "cell_type": "code",
   "execution_count": 29,
   "metadata": {},
   "outputs": [
    {
     "data": {
      "image/png": "[encoded data removed]",
      "text/plain": [
       "<Figure size 432x288 with 1 Axes>"
      ]
     },
     "metadata": {
      "needs_background": "light"
     },
     "output_type": "display_data"
    }
   ],
   "source": [
    "plot_hist(hist)"
   ]
  },
  {
   "cell_type": "markdown",
   "metadata": {
    "id": "SZJ3hT_pJrz3"
   },
   "source": [
    "### Tips for fine tuning EfficientNet\n",
    "\n",
    "On unfreezing layers:\n",
    "\n",
    "- The `BathcNormalization` layers need to be kept frozen\n",
    "([more details](https://keras.io/guides/transfer_learning/)).\n",
    "If they are also turned to trainable, the\n",
    "first epoch after unfreezing will significantly reduce accuracy.\n",
    "- In some cases it may be beneficial to open up only a portion of layers instead of\n",
    "unfreezing all. This will make fine tuning much faster when going to larger models like\n",
    "B7.\n",
    "- Each block needs to be all turned on or off. This is because the architecture includes\n",
    "a shortcut from the first layer to the last layer for each block. Not respecting blocks\n",
    "also significantly harms the final performance.\n",
    "\n",
    "Some other tips for utilizing EfficientNet:\n",
    "\n",
    "- Larger variants of EfficientNet do not guarantee improved performance, especially for\n",
    "tasks with less data or fewer classes. In such a case, the larger variant of EfficientNet\n",
    "chosen, the harder it is to tune hyperparameters.\n",
    "- EMA (Exponential Moving Average) is very helpful in training EfficientNet from scratch,\n",
    "but not so much for transfer learning.\n",
    "- Do not use the RMSprop setup as in the original paper for transfer learning. The\n",
    "momentum and learning rate are too high for transfer learning. It will easily corrupt the\n",
    "pretrained weight and blow up the loss. A quick check is to see if loss (as categorical\n",
    "cross entropy) is getting significantly larger than log(NUM_CLASSES) after the same\n",
    "epoch. If so, the initial learning rate/momentum is too high.\n",
    "- Smaller batch size benefit validation accuracy, possibly due to effectively providing\n",
    "regularization.\n",
    "\n",
    "## Using the latest EfficientNet weights\n",
    "\n",
    "Since the initial paper, the EfficientNet has been improved by various methods for data\n",
    "preprocessing and for using unlabelled data to enhance learning results. These\n",
    "improvements are relatively hard and computationally costly to reproduce, and require\n",
    "extra code; but the weights are readily available in the form of TF checkpoint files. The\n",
    "model architecture has not changed, so loading the improved checkpoints is possible.\n",
    "\n",
    "To use a checkpoint provided at\n",
    "[the official model repository](https://github.com/tensorflow/tpu/tree/master/models/official/efficientnet), first\n",
    "download the checkpoint. As example, here we download noisy-student version of B1:\n",
    "\n",
    "```\n",
    "!wget https://storage.googleapis.com/cloud-tpu-checkpoints/efficientnet\\\n",
    "       /noisystudent/noisy_student_efficientnet-b1.tar.gz\n",
    "!tar -xf noisy_student_efficientnet-b1.tar.gz\n",
    "```\n",
    "\n",
    "Then use the script [efficientnet_weight_update_util.py](https://github.com/tensorflow/tensorflow/blob/master/tensorflow/python/keras/applications/efficientnet_weight_update_util.py) to convert ckpt file to h5 file.\n",
    "\n",
    "```\n",
    "!python efficientnet_weight_update_util.py --model b1 --notop --ckpt \\\n",
    "        efficientnet-b1/model.ckpt --o efficientnetb1_notop.h5\n",
    "```\n",
    "\n",
    "When creating model, use the following to load new weight:\n",
    "\n",
    "```python\n",
    "model = EfficientNetB1(weights=\"efficientnetb1_notop.h5\", include_top=False)\n",
    "```"
   ]
  }
 ],
 "metadata": {
  "colab": {
   "collapsed_sections": [],
   "name": "image_classification_efficientnet_fine_tuning",
   "provenance": [],
   "toc_visible": true
  },
  "kernelspec": {
   "display_name": "Python 3",
   "language": "python",
   "name": "python3"
  },
  "language_info": {
   "codemirror_mode": {
    "name": "ipython",
    "version": 3
   },
   "file_extension": ".py",
   "mimetype": "text/x-python",
   "name": "python",
   "nbconvert_exporter": "python",
   "pygments_lexer": "ipython3",
   "version": "3.6.12"
  }
 },
 "nbformat": 4,
 "nbformat_minor": 4
}
